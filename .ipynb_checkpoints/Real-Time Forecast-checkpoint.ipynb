{
 "cells": [
  {
   "cell_type": "code",
   "execution_count": 29,
   "metadata": {},
   "outputs": [],
   "source": [
    "import pandas as pd\n",
    "import datetime as dt\n",
    "from urllib import *\n",
    "import json"
   ]
  },
  {
   "cell_type": "code",
   "execution_count": 31,
   "metadata": {},
   "outputs": [],
   "source": [
    "key = 'dd77e4c78c49c7b78faa3d08a9f429ee' # API Key\n",
    "\n",
    "# URL url_string to access the data\n",
    "url_string = 'https://api.eia.gov/series/?api_key=%s&series_id=EBA.HST-ALL.D.H'%key\n",
    "\n",
    "# Open the URL url_string, which is a string.\n",
    "url = urllib.request.urlopen(url_string)\n",
    "\n",
    "# Reading JSON File from url\n",
    "data = json.loads(url.read().decode())\n",
    "\n",
    "# Accessing data of hourly consumption of Electricity \n",
    "data = data['series'][0]['data']"
   ]
  },
  {
   "cell_type": "code",
   "execution_count": null,
   "metadata": {},
   "outputs": [],
   "source": [
    "# Initialising Dataframe having columns as Date and Consumption\n",
    "DataFrame_data = pd.DataFrame(columns=['Date','Consumption'])\n",
    "DataFrame_data['Consumption'] = DataFrame_data['Consumption'].astype(float)"
   ]
  },
  {
   "cell_type": "code",
   "execution_count": null,
   "metadata": {},
   "outputs": [],
   "source": [
    "# data is a list of lists in which each list contain two elements [date and time,consumption of electricity]\n",
    "for em in data:\n",
    "    print(em)\n",
    "    TimeStamp_String = em[0]\n",
    "    Consumption_val  = em[1]\n",
    "    \n",
    "    # Consumption can't be null\n",
    "    if(Consumption_val != None):\n",
    "        # Consumption to floating-point numbers which is useful in further analysis\n",
    "        consumption = float(int(Consumption_val)*1.00)\n",
    "        # Adding data_row to dataframe\n",
    "        data_row = [TimeStamp_String,consumption]\n",
    "        DataFrame_data.loc[-1,:] = data_row\n",
    "        DataFrame_data.index += 1"
   ]
  },
  {
   "cell_type": "code",
   "execution_count": null,
   "metadata": {},
   "outputs": [],
   "source": [
    "DataFrame_data.head()"
   ]
  },
  {
   "cell_type": "code",
   "execution_count": null,
   "metadata": {},
   "outputs": [],
   "source": []
  },
  {
   "cell_type": "code",
   "execution_count": null,
   "metadata": {},
   "outputs": [],
   "source": []
  }
 ],
 "metadata": {
  "kernelspec": {
   "display_name": "Python 3",
   "language": "python",
   "name": "python3"
  },
  "language_info": {
   "codemirror_mode": {
    "name": "ipython",
    "version": 3
   },
   "file_extension": ".py",
   "mimetype": "text/x-python",
   "name": "python",
   "nbconvert_exporter": "python",
   "pygments_lexer": "ipython3",
   "version": "3.7.4"
  }
 },
 "nbformat": 4,
 "nbformat_minor": 2
}
